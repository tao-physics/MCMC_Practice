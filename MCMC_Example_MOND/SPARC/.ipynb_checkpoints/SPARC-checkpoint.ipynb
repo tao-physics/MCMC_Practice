{
 "cells": [
  {
   "cell_type": "code",
   "execution_count": 3,
   "metadata": {
    "collapsed": true
   },
   "outputs": [],
   "source": [
    "import matplotlib.pyplot as plt\n",
    "import numpy as np\n",
    "%matplotlib inline"
   ]
  },
  {
   "cell_type": "code",
   "execution_count": null,
   "metadata": {
    "collapsed": true
   },
   "outputs": [],
   "source": []
  },
  {
   "cell_type": "code",
   "execution_count": 4,
   "metadata": {
    "collapsed": true
   },
   "outputs": [],
   "source": [
    "## this assumes you have ipython notebook is some other folder "
   ]
  },
  {
   "cell_type": "code",
   "execution_count": 5,
   "metadata": {
    "collapsed": true
   },
   "outputs": [],
   "source": [
    "data_info_location = '../Data_Share/SPARC/temp.mrt'\n",
    "data_file_location = '../Data_Share/SPARC/RC/'"
   ]
  },
  {
   "cell_type": "code",
   "execution_count": 6,
   "metadata": {
    "collapsed": true
   },
   "outputs": [],
   "source": [
    "d = [12, 3, 7, 6, 3, 5, 5, 8, 8, 6, 9, 6, 9, 8, 6, 6, 6, 4, 15]\n",
    "dlong = np.genfromtxt(data_info_location, delimiter=d, skip_header=29, \n",
    "        dtype=[('Galaxy', object), ('T', int), ('D', float), ('e_D', float), \n",
    "               ('f_D', int), ('Inc',  float), ('e_Inc', float), ('Lum', float), \n",
    "               ('e_Lum', float), ('Reff', float), ('SBeff',  float), ('Rdisk', float),\n",
    "               ('SBdisk', float), ('MHI',  float), ('RHI',  float), ('Vflat', float),\n",
    "               ('e_Vflat', float), ('Q',  int), ('Ref',  object)], autostrip=True)"
   ]
  },
  {
   "cell_type": "code",
   "execution_count": 7,
   "metadata": {},
   "outputs": [],
   "source": [
    "## data location\n",
    "for i in dlong:\n",
    "    data = data_file_location+i['Galaxy']+'.dat'\n",
    "    "
   ]
  },
  {
   "cell_type": "code",
   "execution_count": null,
   "metadata": {
    "collapsed": true
   },
   "outputs": [],
   "source": []
  }
 ],
 "metadata": {
  "kernelspec": {
   "display_name": "Python 3",
   "language": "python",
   "name": "python3"
  },
  "language_info": {
   "codemirror_mode": {
    "name": "ipython",
    "version": 3
   },
   "file_extension": ".py",
   "mimetype": "text/x-python",
   "name": "python",
   "nbconvert_exporter": "python",
   "pygments_lexer": "ipython3",
   "version": "3.6.7"
  }
 },
 "nbformat": 4,
 "nbformat_minor": 1
}
