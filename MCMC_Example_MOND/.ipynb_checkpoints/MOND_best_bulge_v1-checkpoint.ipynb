{
 "cells": [
  {
   "cell_type": "code",
   "execution_count": 11,
   "metadata": {},
   "outputs": [],
   "source": [
    "import numpy as np\n",
    "from scipy.stats import uniform\n",
    "from scipy.stats import norm\n",
    "\n",
    "import pandas as pd\n",
    "\n",
    "import matplotlib.pyplot as plt\n",
    "%matplotlib inline\n",
    "\n",
    "import PK_MONDclass as MONDclass"
   ]
  },
  {
   "cell_type": "code",
   "execution_count": 12,
   "metadata": {},
   "outputs": [],
   "source": [
    "gplus = 1.2 * 10 ** -10\n",
    "MONDmodel = MONDclass.MOND(gplus)"
   ]
  },
  {
   "cell_type": "code",
   "execution_count": 13,
   "metadata": {},
   "outputs": [
    {
     "data": {
      "text/plain": [
       "array([203.86550597,  43.91884696])"
      ]
     },
     "execution_count": 13,
     "metadata": {},
     "output_type": "execute_result"
    }
   ],
   "source": [
    "vdata = np.array([150, 20])\n",
    "rdata = np.array([10, 2])\n",
    "MONDmodel.v_obs(vdata, rdata)"
   ]
  },
  {
   "cell_type": "code",
   "execution_count": 14,
   "metadata": {},
   "outputs": [],
   "source": [
    "sampleObsInfo = pd.read_csv('sampleObsInfo135.csv', \n",
    "                            names=['GalaName','HubbleType','Distance','DisErr',\n",
    "                                   'DisMethod','Inclination','inclinationErr','totLum3p6','LumErr',\n",
    "                                   'Reff','SurfBeff','Rd',\n",
    "                                   'CentSurfB','M_HI','R_HI',\n",
    "                                   'Vf','VfErr','Q','Ref'],\n",
    "                            index_col = 'GalaName')"
   ]
  },
  {
   "cell_type": "code",
   "execution_count": 15,
   "metadata": {},
   "outputs": [],
   "source": [
    "name = 'NGC6195'\n",
    "data = np.loadtxt('./SPARC/Rotmod/'+name+'_rotmod.dat', delimiter='\\t', skiprows=2)"
   ]
  },
  {
   "cell_type": "code",
   "execution_count": 16,
   "metadata": {
    "scrolled": true
   },
   "outputs": [
    {
     "data": {
      "text/plain": [
       "array([[1.3300e+00, 1.7500e+02, 1.3600e+01, 0.0000e+00, 5.3180e+01,\n",
       "        2.3680e+02, 5.8162e+02, 2.9919e+03],\n",
       "       [2.3400e+00, 2.3700e+02, 3.6500e+00, 0.0000e+00, 8.4900e+01,\n",
       "        2.5848e+02, 5.1434e+02, 1.2330e+03],\n",
       "       [3.3300e+00, 2.4700e+02, 3.8100e+00, 0.0000e+00, 1.1089e+02,\n",
       "        2.5869e+02, 4.5595e+02, 6.9585e+02],\n",
       "       [4.3400e+00, 2.4200e+02, 3.5600e+00, 0.0000e+00, 1.3339e+02,\n",
       "        2.5532e+02, 4.0321e+02, 3.8439e+02],\n",
       "       [5.3500e+00, 2.4000e+02, 4.2000e+00, 1.1000e-01, 1.5234e+02,\n",
       "        2.4796e+02, 3.5656e+02, 2.5103e+02],\n",
       "       [6.3400e+00, 2.3300e+02, 4.5900e+00, 0.0000e+00, 1.6835e+02,\n",
       "        2.4298e+02, 3.1608e+02, 1.4916e+02],\n",
       "       [7.3400e+00, 2.3300e+02, 4.6300e+00, 0.0000e+00, 1.8251e+02,\n",
       "        2.3583e+02, 2.7986e+02, 6.9120e+01],\n",
       "       [8.3200e+00, 2.4700e+02, 6.4100e+00, 1.9600e+00, 1.9278e+02,\n",
       "        2.2667e+02, 2.3030e+02, 3.2440e+01],\n",
       "       [9.3400e+00, 2.4800e+02, 7.6400e+00, 1.5340e+01, 1.9880e+02,\n",
       "        2.1670e+02, 2.1143e+02, 1.4680e+01],\n",
       "       [1.0380e+01, 2.4200e+02, 9.0500e+00, 2.5140e+01, 2.0714e+02,\n",
       "        2.0698e+02, 1.8877e+02, 6.5500e+00],\n",
       "       [1.1360e+01, 2.5200e+02, 1.2500e+01, 3.3650e+01, 2.1169e+02,\n",
       "        1.9854e+02, 1.6101e+02, 3.0700e+00],\n",
       "       [1.2340e+01, 2.4500e+02, 8.7200e+00, 4.1560e+01, 2.1357e+02,\n",
       "        1.9081e+02, 1.4590e+02, 1.4400e+00],\n",
       "       [1.3320e+01, 2.4700e+02, 4.4400e+00, 4.8790e+01, 2.1757e+02,\n",
       "        1.8383e+02, 1.4098e+02, 6.8000e-01],\n",
       "       [1.4300e+01, 2.3800e+02, 9.2900e+00, 5.4630e+01, 2.2369e+02,\n",
       "        1.7748e+02, 1.3210e+02, 3.2000e-01],\n",
       "       [1.5470e+01, 2.4900e+02, 9.9800e+00, 6.0460e+01, 2.3169e+02,\n",
       "        1.7069e+02, 1.1540e+02, 1.3000e-01],\n",
       "       [1.6350e+01, 2.5000e+02, 6.1500e+00, 6.3830e+01, 2.3456e+02,\n",
       "        1.6606e+02, 9.9410e+01, 6.0000e-02],\n",
       "       [1.7920e+01, 2.5300e+02, 6.9600e+00, 6.8080e+01, 2.3809e+02,\n",
       "        1.5863e+02, 8.4920e+01, 2.0000e-02],\n",
       "       [1.9100e+01, 2.5800e+02, 1.5400e+01, 6.9270e+01, 2.4154e+02,\n",
       "        1.5366e+02, 7.2440e+01, 1.0000e-02],\n",
       "       [2.2520e+01, 2.5400e+02, 6.5100e+00, 6.7690e+01, 2.4074e+02,\n",
       "        1.4152e+02, 3.6490e+01, 0.0000e+00],\n",
       "       [2.6050e+01, 2.5600e+02, 7.7300e+00, 6.6400e+01, 2.2510e+02,\n",
       "        1.3158e+02, 1.7400e+01, 0.0000e+00],\n",
       "       [2.9480e+01, 2.5500e+02, 8.5000e+00, 6.3140e+01, 2.0887e+02,\n",
       "        1.2368e+02, 9.6400e+00, 0.0000e+00],\n",
       "       [3.3000e+01, 2.4400e+02, 5.7500e+00, 6.1550e+01, 1.9511e+02,\n",
       "        1.1689e+02, 7.6400e+00, 0.0000e+00],\n",
       "       [3.6430e+01, 2.4600e+02, 4.2400e+00, 6.5910e+01, 1.8557e+02,\n",
       "        1.1125e+02, 6.5000e+00, 0.0000e+00]])"
      ]
     },
     "execution_count": 16,
     "metadata": {},
     "output_type": "execute_result"
    }
   ],
   "source": [
    "data"
   ]
  },
  {
   "cell_type": "code",
   "execution_count": 17,
   "metadata": {},
   "outputs": [],
   "source": [
    "Ndata = len(data)"
   ]
  },
  {
   "cell_type": "code",
   "execution_count": 18,
   "metadata": {
    "scrolled": true
   },
   "outputs": [
    {
     "name": "stdout",
     "output_type": "stream",
     "text": [
      "# Distance = 3.36 Mpc\n",
      "\n",
      "# Rad\tVobs\terrV\tVgas\tVdisk\tVbul\tSBdisk\tSBbul\t\t\n",
      "\n",
      "# kpc\tkm/s\tkm/s\tkm/s\tkm/s\tkm/s\tL/pc^2\tL/pc^2\n",
      "\n",
      "[[1.3300e+00 1.7500e+02 1.3600e+01 0.0000e+00 5.3180e+01 2.3680e+02\n",
      "  5.8162e+02 2.9919e+03]\n",
      " [2.3400e+00 2.3700e+02 3.6500e+00 0.0000e+00 8.4900e+01 2.5848e+02\n",
      "  5.1434e+02 1.2330e+03]\n",
      " [3.3300e+00 2.4700e+02 3.8100e+00 0.0000e+00 1.1089e+02 2.5869e+02\n",
      "  4.5595e+02 6.9585e+02]\n",
      " [4.3400e+00 2.4200e+02 3.5600e+00 0.0000e+00 1.3339e+02 2.5532e+02\n",
      "  4.0321e+02 3.8439e+02]\n",
      " [5.3500e+00 2.4000e+02 4.2000e+00 1.1000e-01 1.5234e+02 2.4796e+02\n",
      "  3.5656e+02 2.5103e+02]\n",
      " [6.3400e+00 2.3300e+02 4.5900e+00 0.0000e+00 1.6835e+02 2.4298e+02\n",
      "  3.1608e+02 1.4916e+02]\n",
      " [7.3400e+00 2.3300e+02 4.6300e+00 0.0000e+00 1.8251e+02 2.3583e+02\n",
      "  2.7986e+02 6.9120e+01]\n",
      " [8.3200e+00 2.4700e+02 6.4100e+00 1.9600e+00 1.9278e+02 2.2667e+02\n",
      "  2.3030e+02 3.2440e+01]\n",
      " [9.3400e+00 2.4800e+02 7.6400e+00 1.5340e+01 1.9880e+02 2.1670e+02\n",
      "  2.1143e+02 1.4680e+01]\n",
      " [1.0380e+01 2.4200e+02 9.0500e+00 2.5140e+01 2.0714e+02 2.0698e+02\n",
      "  1.8877e+02 6.5500e+00]\n",
      " [1.1360e+01 2.5200e+02 1.2500e+01 3.3650e+01 2.1169e+02 1.9854e+02\n",
      "  1.6101e+02 3.0700e+00]\n",
      " [1.2340e+01 2.4500e+02 8.7200e+00 4.1560e+01 2.1357e+02 1.9081e+02\n",
      "  1.4590e+02 1.4400e+00]\n",
      " [1.3320e+01 2.4700e+02 4.4400e+00 4.8790e+01 2.1757e+02 1.8383e+02\n",
      "  1.4098e+02 6.8000e-01]\n",
      " [1.4300e+01 2.3800e+02 9.2900e+00 5.4630e+01 2.2369e+02 1.7748e+02\n",
      "  1.3210e+02 3.2000e-01]\n",
      " [1.5470e+01 2.4900e+02 9.9800e+00 6.0460e+01 2.3169e+02 1.7069e+02\n",
      "  1.1540e+02 1.3000e-01]\n",
      " [1.6350e+01 2.5000e+02 6.1500e+00 6.3830e+01 2.3456e+02 1.6606e+02\n",
      "  9.9410e+01 6.0000e-02]\n",
      " [1.7920e+01 2.5300e+02 6.9600e+00 6.8080e+01 2.3809e+02 1.5863e+02\n",
      "  8.4920e+01 2.0000e-02]\n",
      " [1.9100e+01 2.5800e+02 1.5400e+01 6.9270e+01 2.4154e+02 1.5366e+02\n",
      "  7.2440e+01 1.0000e-02]\n",
      " [2.2520e+01 2.5400e+02 6.5100e+00 6.7690e+01 2.4074e+02 1.4152e+02\n",
      "  3.6490e+01 0.0000e+00]\n",
      " [2.6050e+01 2.5600e+02 7.7300e+00 6.6400e+01 2.2510e+02 1.3158e+02\n",
      "  1.7400e+01 0.0000e+00]\n",
      " [2.9480e+01 2.5500e+02 8.5000e+00 6.3140e+01 2.0887e+02 1.2368e+02\n",
      "  9.6400e+00 0.0000e+00]\n",
      " [3.3000e+01 2.4400e+02 5.7500e+00 6.1550e+01 1.9511e+02 1.1689e+02\n",
      "  7.6400e+00 0.0000e+00]\n",
      " [3.6430e+01 2.4600e+02 4.2400e+00 6.5910e+01 1.8557e+02 1.1125e+02\n",
      "  6.5000e+00 0.0000e+00]]\n"
     ]
    }
   ],
   "source": [
    "with open('./SPARC/Rotmod/CamB_rotmod.dat','r') as f:\n",
    "#     info = f.read()\n",
    "    while True:\n",
    "        info = f.readline()\n",
    "        if info[0] == '#':\n",
    "            print(info)\n",
    "        else:\n",
    "            break\n",
    "            \n",
    "# data2\n",
    "print(data)"
   ]
  },
  {
   "cell_type": "code",
   "execution_count": 19,
   "metadata": {},
   "outputs": [],
   "source": [
    "R_gala = data[:,0]\n",
    "Rmax = max(R_gala)\n",
    "\n",
    "V_obs = data[:,1]\n",
    "V_errV = data[:,2]\n",
    "\n",
    "Vobsmax = max(V_obs + V_errV)\n",
    "\n",
    "V_gas = data[:,3]\n",
    "V_disk = data[:,4]\n",
    "V_bulge = data[:,5]\n",
    "YN_bulge = any(V_bulge)\n",
    "\n",
    "if YN_bulge:\n",
    "    dof = Ndata - 2\n",
    "else:\n",
    "    dof = Ndata - 1"
   ]
  },
  {
   "cell_type": "code",
   "execution_count": 20,
   "metadata": {},
   "outputs": [
    {
     "data": {
      "text/plain": [
       "Text(0.5,1,'Gala Name')"
      ]
     },
     "execution_count": 20,
     "metadata": {},
     "output_type": "execute_result"
    },
    {
     "data": {
      "image/png": "[encoded data removed]",
      "text/plain": [
       "<matplotlib.figure.Figure at 0x1a179e1b00>"
      ]
     },
     "metadata": {
      "needs_background": "light"
     },
     "output_type": "display_data"
    }
   ],
   "source": [
    "fig, ax = plt.subplots(figsize=(6,6))\n",
    "ax.errorbar(R_gala, V_obs, yerr=V_errV, fmt='ko', ecolor='k', capsize=3.5)\n",
    "ax.plot(#R_gala, V_obs, 'ko',\n",
    "        R_gala, V_disk, 'y*',\n",
    "        R_gala, V_gas, 'g^',\n",
    "        R_gala, V_bulge, 'c*')\n",
    "        #R_gala, V_nfw, 'mo')\n",
    "# ax.plot(R_gala, vtot_test, 'ro')\n",
    "ax.set_xlim(0,Rmax*1.2)\n",
    "ax.set_ylim(0,Vobsmax*1.2)\n",
    "ax.set_xlabel('Radius (kpc)',fontsize=17)\n",
    "ax.set_ylabel('V (km/s)',fontsize=17)\n",
    "ax.set_title('Gala Name',fontsize=17)"
   ]
  },
  {
   "cell_type": "code",
   "execution_count": 21,
   "metadata": {},
   "outputs": [],
   "source": [
    "s = 1\n",
    "sunmass = 1\n",
    "kpc = 1\n",
    "gy = 1e9*365*24*60*60*s\n",
    "km = 1/(3.0857*1e16)*kpc\n",
    "m = 1/(3.0857*1e16*1e3)*kpc\n",
    "cm = 1/(3.0857*1e16*1e3*1e2)*kpc\n",
    "kg = 1/(1.989*1e30)*sunmass\n",
    "g = 1/(1.989*1e30*1e3)*sunmass\n",
    "ng = 6.67408*1e-11*m**3/(kg*s**2)"
   ]
  },
  {
   "cell_type": "code",
   "execution_count": 32,
   "metadata": {},
   "outputs": [],
   "source": [
    "def v_baryon(M7L_disk, M7L_bulge=0):\n",
    "    return np.sqrt(M7L_disk*V_disk**2 + M7L_bulge*V_bulge**2 + V_gas**2)\n",
    "\n",
    "def v_disk(M7L_disk):\n",
    "    return np.sqrt(M7L_disk) * V_disk\n",
    "\n",
    "def v_total(R_gala, M7L_disk, M7L_bulge=0):\n",
    "    vbar = v_baryon(M7L_disk, M7L_bulge)\n",
    "    return MONDmodel.v_obs(vbar, R_gala)\n",
    "\n",
    "# chi2 per dof\n",
    "def calc_chi2dof(M7L_disk, M7L_bulge=0):\n",
    "    vtot = v_total(R_gala, M7L_disk, M7L_bulge)\n",
    "    chi2 = np.sum(((vtot - V_obs)**2 / V_errV**2))\n",
    "    return 1 / dof * chi2"
   ]
  },
  {
   "cell_type": "code",
   "execution_count": 37,
   "metadata": {},
   "outputs": [],
   "source": [
    "vtot_test = v_total(R_gala, 0.3, 0.5)"
   ]
  },
  {
   "cell_type": "code",
   "execution_count": 38,
   "metadata": {},
   "outputs": [
    {
     "data": {
      "text/plain": [
       "array([178.04235535, 202.41135828, 212.36468503, 219.84353741,\n",
       "       224.46683379, 229.81557646, 233.63406769, 235.38077908,\n",
       "       236.25396405, 238.39739181, 240.13266413, 241.60466289,\n",
       "       244.22744736, 247.71940857, 252.38800786, 254.82535597,\n",
       "       258.44808483, 261.00770088, 263.19974143, 260.03618144,\n",
       "       255.51498084, 252.37664948, 253.3061141 ])"
      ]
     },
     "execution_count": 38,
     "metadata": {},
     "output_type": "execute_result"
    }
   ],
   "source": [
    "vtot_test"
   ]
  },
  {
   "cell_type": "code",
   "execution_count": 39,
   "metadata": {},
   "outputs": [
    {
     "data": {
      "text/plain": [
       "Text(0.5,1,'Gala Name')"
      ]
     },
     "execution_count": 39,
     "metadata": {},
     "output_type": "execute_result"
    },
    {
     "data": {
      "image/png": "[encoded data removed]",
      "text/plain": [
       "<matplotlib.figure.Figure at 0x1a181d6be0>"
      ]
     },
     "metadata": {
      "needs_background": "light"
     },
     "output_type": "display_data"
    }
   ],
   "source": [
    "fig, ax = plt.subplots(figsize=(6,6))\n",
    "ax.errorbar(R_gala, V_obs, yerr=V_errV, fmt='ko', ecolor='k', capsize=3.5)\n",
    "ax.plot(R_gala, vtot_test, 'ro',\n",
    "        R_gala, V_disk, 'y*',\n",
    "        R_gala, V_gas, 'g^',\n",
    "        R_gala, V_bulge, 'c*')\n",
    "        #R_gala, V_nfw, 'mo')\n",
    "# ax.plot(R_gala, vtot_test, 'ro')\n",
    "ax.set_xlim(0,Rmax*1.2)\n",
    "ax.set_ylim(0,Vobsmax*1.2)\n",
    "ax.set_xlabel('Radius (kpc)',fontsize=17)\n",
    "ax.set_ylabel('V (km/s)',fontsize=17)\n",
    "ax.set_title('Gala Name',fontsize=17)"
   ]
  },
  {
   "cell_type": "code",
   "execution_count": 40,
   "metadata": {},
   "outputs": [],
   "source": [
    "def make_uniform_prior(start, width):\n",
    "    def inner(x):\n",
    "        return uniform.pdf(x, start, width)\n",
    "    return inner\n",
    "\n",
    "# prior_M7Ldisk_unif = make_uniform_prior(-1, 1-(-1))\n",
    "# prior_M7Lbulge_unif = make_uniform_prior(-1, 1-(-1))\n",
    "\n",
    "prior_M7Ldisk_unif = make_uniform_prior(0.1, 10-(0.1))\n",
    "prior_M7Lbulge_unif = make_uniform_prior(0.1, 10-(0.1))\n",
    "\n",
    "def make_norm(mean, sd):\n",
    "    def inner(x):\n",
    "        return norm.pdf(x, mean, sd)\n",
    "    return inner\n",
    "\n",
    "prior_M7Ldisk_norm = make_norm(np.log10(0.5), 0.1)\n",
    "prior_M7Lbulge_norm = make_norm(np.log10(0.7), 0.1)\n"
   ]
  },
  {
   "cell_type": "code",
   "execution_count": 41,
   "metadata": {},
   "outputs": [
    {
     "data": {
      "text/plain": [
       "2"
      ]
     },
     "execution_count": 41,
     "metadata": {},
     "output_type": "execute_result"
    }
   ],
   "source": [
    "np.array([1,2,3])[1]"
   ]
  },
  {
   "cell_type": "code",
   "execution_count": 42,
   "metadata": {},
   "outputs": [
    {
     "data": {
      "text/plain": [
       "(0.10101010101010101, 4.652409065449253e-14)"
      ]
     },
     "execution_count": 42,
     "metadata": {},
     "output_type": "execute_result"
    }
   ],
   "source": [
    "prior_M7Ldisk_unif(2), prior_M7Ldisk_norm(0.5)"
   ]
  },
  {
   "cell_type": "code",
   "execution_count": 43,
   "metadata": {},
   "outputs": [],
   "source": [
    "# theta = [M7Ldisk]\n",
    "\n",
    "def lnprior(theta):\n",
    "    M7L_disk, M7L_bulge = theta\n",
    "    if (0.1 <= M7L_disk <= 10) and (0.1 <= M7L_bulge <= 10):\n",
    "        prior = prior_M7Ldisk_unif(M7L_disk) * prior_M7Lbulge_unif(M7L_bulge)\n",
    "        return np.log10(prior)\n",
    "    else:\n",
    "        return -np.inf\n",
    "    \n",
    "def lnlike(theta):\n",
    "    M7L_disk, M7L_bulge = theta\n",
    "    vtot = v_total(R_gala, M7L_disk, M7L_bulge)\n",
    "    like = -1/2 * np.sum(((vtot - V_obs)**2 / V_errV**2))\n",
    "    return like\n",
    "\n",
    "def lnprob(theta):\n",
    "    lp = lnprior(theta)\n",
    "#     print(lp)\n",
    "    if not np.isfinite(lp):\n",
    "        return -np.inf\n",
    "#     if lp == np.log(10**-100):\n",
    "#         return lp\n",
    "    return lp + lnlike(theta)"
   ]
  },
  {
   "cell_type": "code",
   "execution_count": 45,
   "metadata": {},
   "outputs": [
    {
     "data": {
      "text/plain": [
       "(-inf, -37398.7942747647, -inf)"
      ]
     },
     "execution_count": 45,
     "metadata": {},
     "output_type": "execute_result"
    }
   ],
   "source": [
    "lnprior([11, 4]), lnlike([0.4,6]), lnprob([11,4])"
   ]
  },
  {
   "cell_type": "code",
   "execution_count": 46,
   "metadata": {},
   "outputs": [],
   "source": [
    "ndim, nwalkers = 2, 10\n",
    "# theta = (log10_M200, c200err, M/L_disk)\n",
    "pos = [np.array([4,6]) + 3* np.random.random_sample(ndim) for i in range(nwalkers)]"
   ]
  },
  {
   "cell_type": "code",
   "execution_count": 47,
   "metadata": {},
   "outputs": [
    {
     "data": {
      "text/plain": [
       "[array([6.49469697, 7.29506074]),\n",
       " array([6.00344874, 8.17526944]),\n",
       " array([4.10255457, 6.11453458]),\n",
       " array([5.79397034, 7.74182053]),\n",
       " array([6.85231992, 6.81231712]),\n",
       " array([5.90598322, 6.82033795]),\n",
       " array([6.06650917, 8.91904694]),\n",
       " array([4.74852959, 8.66393475]),\n",
       " array([5.86072887, 7.93717567]),\n",
       " array([6.88221413, 8.0749705 ])]"
      ]
     },
     "execution_count": 47,
     "metadata": {},
     "output_type": "execute_result"
    }
   ],
   "source": [
    "pos"
   ]
  },
  {
   "cell_type": "code",
   "execution_count": 48,
   "metadata": {},
   "outputs": [],
   "source": [
    "import emcee\n",
    "sampler = emcee.EnsembleSampler(nwalkers, ndim, lnprob)"
   ]
  },
  {
   "cell_type": "code",
   "execution_count": 49,
   "metadata": {},
   "outputs": [
    {
     "data": {
      "text/plain": [
       "(array([[0.14477535, 0.7147391 ],\n",
       "        [0.17858946, 0.68458283],\n",
       "        [0.17544607, 0.70510857],\n",
       "        [0.18015238, 0.68561209],\n",
       "        [0.1447401 , 0.71273594],\n",
       "        [0.18882464, 0.65980201],\n",
       "        [0.17776106, 0.69318747],\n",
       "        [0.1377066 , 0.71894919],\n",
       "        [0.16541407, 0.69359028],\n",
       "        [0.20998028, 0.66788341]]),\n",
       " array([-22.37455547, -21.66019446, -22.58412327, -21.71520877,\n",
       "        -22.25529904, -24.33099275, -21.72130083, -23.02633518,\n",
       "        -21.30583121, -24.9519337 ]),\n",
       " ('MT19937', array([1074547499, 4238700172, 3681424675, 2754618037,  615982003,\n",
       "         2088302648, 2202317750, 3495932579, 3207517409, 3222836095,\n",
       "         4182775129, 3143807022, 1873645874, 3930695434,  878401722,\n",
       "         2263137294, 1163412964, 3246548011, 2667939844,  181721315,\n",
       "         1985835703,  825935004, 1457016240, 2978801992, 3366751493,\n",
       "         1212681629,  791761221, 1962165603, 3963266479, 3095745135,\n",
       "          483548702, 4207458710, 2046571860,  399528464, 1984060014,\n",
       "         2004519455, 1121052254, 1116654026, 4277398833, 2477805546,\n",
       "         2016742497, 3316656469,  849735467,  227548906, 2640023710,\n",
       "         3953886345, 2556126517, 2567466586, 3515107690, 3015003445,\n",
       "         1407730855, 1980867220, 3451032175, 2417765831, 1706217066,\n",
       "         3734661023,  691742481, 3455601982, 3556672886,  977483098,\n",
       "           36643108,  371512528, 1735710608, 1777009605, 4167679064,\n",
       "         1540549320, 1249046742, 1564899967, 4238299288, 2763125014,\n",
       "          544610565, 2421927958,   34435179, 1861748457, 1187763333,\n",
       "         1423770241, 3963867293, 1241948159, 3719716243,  175697989,\n",
       "         1550632320, 3139633976,  631164569, 3255364467, 2242326380,\n",
       "         3732758270,  519258481, 2118524820, 4279451199, 3907515373,\n",
       "         1961730041,  196587757,  981001195,  870837094, 1919372395,\n",
       "         1206610302, 3007422585,  960616160,  294759756,  765340800,\n",
       "         2160578862, 2516443650, 2465022729, 2872359554,  915388972,\n",
       "          818060602, 1338355774, 2732816385, 4106185295, 1668205304,\n",
       "         3251456798, 1533245475,  841387508, 1930793604, 3017814180,\n",
       "         4018804857,  664939122, 4074375100, 3311978740, 3681010142,\n",
       "         3662667222,   19866289, 3786555197,  920244448, 3387161275,\n",
       "           50768696, 1573210991,  292330757, 3930645546, 4039727644,\n",
       "         2289807948, 3969073857,  570246711,  637664135, 3537293446,\n",
       "         2948214796,  329477541,  417508777, 2612729359, 3103691531,\n",
       "          241193817,   42875609, 2231244110, 1854831039, 2241296725,\n",
       "          619066525,  149911597,  181424848, 1552030975, 3060858749,\n",
       "         2789468272, 1945497969,  899995259, 3668035596, 3629499343,\n",
       "         2369642262, 2899751325, 3207964146, 2222844278, 1412484539,\n",
       "          304937038,  875697310, 1230961894, 3447658764, 1383299275,\n",
       "          103924461, 2780188652, 1234364918,  499243272, 3887934752,\n",
       "           20395927, 1471613687, 1718795058,  199592804, 3966316170,\n",
       "         2516630751, 2542753038, 1814273577, 3235088671, 1066883420,\n",
       "         3758479307, 1124144589,  905559089,  945750344, 1362910711,\n",
       "         2647742744, 2614415471,   57394071, 2932744144,  449157679,\n",
       "         2494293343, 3381442412, 3492433383,  621268229, 1847886278,\n",
       "         2432786599, 2226066143,  928240365, 1102113282,  469428321,\n",
       "          895997856, 1415899297,  657289689,  443627236,  184748169,\n",
       "         4284299966, 3986971594, 2670619965, 1457366062, 1814410405,\n",
       "         1075234251,  430756851, 1706059208,  771076590, 1500394612,\n",
       "         1087568694, 2055343119, 1711862942, 1211856663, 2420752016,\n",
       "         2475363664,  726900722, 2185201047, 3285768588, 1814131844,\n",
       "         1422797424, 1161556336, 2782718845, 1617792601, 1810403198,\n",
       "         3874385960, 1758804079, 2578096540, 1011763001,  355668461,\n",
       "          538735678, 1068594079, 3250690698, 3559849667, 3113613329,\n",
       "         1951445871, 3811972633, 1442301838, 3803496007, 1248678909,\n",
       "         3797294717, 3974473268, 1032306052, 2231736773, 3221512506,\n",
       "         2211078978, 4027238882, 3462792471, 2113447726,  561170304,\n",
       "          195587040, 2559084686, 3912378208, 3028294288, 4247817517,\n",
       "         3246326426, 3271940445, 3530618825, 3448683301,  988566728,\n",
       "         2596417354, 2434888931, 1425805508, 1866732016,  119127577,\n",
       "         2931537343,  137568191,   45034034, 1195837545, 4014584615,\n",
       "          109663978, 3801192111,  474192936, 3994826848, 2691857356,\n",
       "         1824819399, 3341067878, 2558235355, 2329698943,  595382233,\n",
       "         4249478253, 2413553457, 2914542609, 1719924270,  729763043,\n",
       "          872413993,  783983989, 1508010723, 1890526828, 3345481667,\n",
       "         3409883348, 1817438403, 3141791151, 3089926472, 2814266776,\n",
       "         4037283243, 1349325148,  765712920, 2215942370, 2767802747,\n",
       "         3818974178,  411744477,  784229355,  658559061, 2043566249,\n",
       "         3558426635, 1765579521, 3970047224, 1413092305, 3857292973,\n",
       "         2822258719, 2229574402, 1207641942, 4003535071, 4140876784,\n",
       "         2265855035, 2436473602, 3190743916, 4278541901,  176464277,\n",
       "          562523073, 3326794333,  161101556, 1982047584, 3582969432,\n",
       "          316634004, 1297968791, 3734168821,  122655221, 3534212354,\n",
       "         3714437795, 2772003989, 3635610422, 1029300742, 1496520937,\n",
       "         2251235328, 1297757449,  291752465, 2927645634, 1964773389,\n",
       "         3828578094, 1134364021, 4023460314, 2966627095,  808178104,\n",
       "         3625379856,  143129815, 3219446451, 4112014947, 4188753272,\n",
       "         1217740911, 4268739919, 1707125717, 1945417995,  868618410,\n",
       "         2335001125, 4238080755,  359316941, 1842078377, 1925643157,\n",
       "         1669872659,  616891961,  530270915, 2936860848, 1348147874,\n",
       "          766494276, 3229316547, 2658543267,  475584579, 2303964884,\n",
       "          137268881, 3015494272, 2030568692, 2883893359, 1999468683,\n",
       "          396215746, 3587735208, 2914426015, 2604156859, 3550289242,\n",
       "         4002186233, 4015540923, 2699058163, 3572176118,  199265907,\n",
       "          232257987, 2468471115, 1566171984, 1041382030,  266745812,\n",
       "          441588500, 1124824863, 3672019445, 2453008934, 2145651280,\n",
       "         2778497992, 1752185841, 3161301731,  123688333,  696670921,\n",
       "         1421023636, 3011431918,  947560173,  889534361, 1646304240,\n",
       "         4290847178, 3143018687, 3527679648,  596607662, 1174376447,\n",
       "         1538475766,  202542809, 3867423794, 1024903060, 2147005689,\n",
       "         2482266896, 3529174760, 2826014885, 2215956282, 4196057388,\n",
       "          828573329, 3000255155, 4062722442,  213018135, 2838348987,\n",
       "         2995405639, 1995299715, 4090650313, 2599733183,  690766449,\n",
       "         3121811321, 2546461105,  355507880,  123961396, 3736560433,\n",
       "         3356192308, 1362557976,  218237121, 2995513006, 2844341031,\n",
       "         1357596763,  453278299, 4155792328, 3326630105, 4273557609,\n",
       "         1365299661, 2148950831, 1702414183, 3859386975,  947738086,\n",
       "         3675937703, 3547132897, 1223892151, 4173271385,  380772711,\n",
       "         1144352677, 2932515796,  615513777, 1745000077, 2983718528,\n",
       "         3407067006, 1600884958, 1461869938,  309087470, 2656094601,\n",
       "          442488199,  488028997, 3247976671, 2528389488, 1637998653,\n",
       "          702988153, 1110174604, 3432987403, 3750510599,  794699105,\n",
       "         1843957618,  218690995,  821707211, 1042635091, 3021874293,\n",
       "         1946108245,  403103954, 3108861019,  442681941, 1205979231,\n",
       "         2702400892, 3773487866, 1229273335, 2532974435,  821570706,\n",
       "         3718522438, 1696561052,   91747507, 4204862564, 2842088115,\n",
       "         2366232313, 2144211471, 3949273112,  964436653, 1371039425,\n",
       "         3491130783,   31428924, 2741875756,  470569684,  216892611,\n",
       "         3808806730, 2571404103, 4007643525, 2700883223, 1227608207,\n",
       "         3007345398,  717590095, 1719863920, 2698031019, 1368900528,\n",
       "         2743753586,  100778564, 1321947552, 3105112847,   51553395,\n",
       "         2793322624, 4249375818, 2637846781, 3257723619, 3431672003,\n",
       "         1612731103, 1828146901, 4046613489, 2001213185, 4091600947,\n",
       "         1395276334,  169543629, 2146977313,     335079,  919613843,\n",
       "          809581728, 3734027662, 2410092707, 3649800505,  878997114,\n",
       "         1405302407, 1152635117, 2841244042, 3240950975, 2095400060,\n",
       "          465489514, 2120842146, 2786518296, 3668056034, 3617443267,\n",
       "         2915803402, 4016951407, 1894713563, 1964017646, 4056786297,\n",
       "         1567777116, 3676355761, 2804576816,  638283708,  254850780,\n",
       "         2457502665,  789040943, 3034458245, 3033743115, 1635124783,\n",
       "          858418691, 2779399499, 4132370986, 2817610391, 4207864812,\n",
       "         1096160934, 3432688970, 3026647636, 4242781030, 2973054075,\n",
       "         2358768910, 2640538572, 1533799479,  163140973,  253278528,\n",
       "         2140270879, 1868296153,  377498074, 2751443866,  265448562,\n",
       "         2737894923, 1120997528, 2656166610, 2136924489, 2528645291,\n",
       "         3510196720, 1554380786,  187841880, 1380354969, 1670052744,\n",
       "         3533379409, 3473467450, 2372554250,  167856133, 2063367891,\n",
       "         3542949627, 1338998866, 2187060586, 3165648723, 4198874574,\n",
       "         1208435976, 3241753746, 1030408939, 3973726559, 3795846550,\n",
       "         3572216012, 1912151593, 2443286036,  602826491, 3775973727,\n",
       "          426179884,  218057596, 2778675314, 4194689621], dtype=uint32), 162, 0, 0.0))"
      ]
     },
     "execution_count": 49,
     "metadata": {},
     "output_type": "execute_result"
    }
   ],
   "source": [
    "sampler.run_mcmc(pos, 5000)"
   ]
  },
  {
   "cell_type": "code",
   "execution_count": 50,
   "metadata": {
    "scrolled": true
   },
   "outputs": [
    {
     "data": {
      "text/plain": [
       "array([[[6.35420944, 7.18177541],\n",
       "        [6.07437915, 7.099005  ],\n",
       "        [4.74913918, 7.2948509 ],\n",
       "        ...,\n",
       "        [0.15799498, 0.70464269],\n",
       "        [0.14477535, 0.7147391 ],\n",
       "        [0.14477535, 0.7147391 ]],\n",
       "\n",
       "       [[6.00344874, 8.17526944],\n",
       "        [6.00344874, 8.17526944],\n",
       "        [6.04503583, 7.94244395],\n",
       "        ...,\n",
       "        [0.17839887, 0.68656255],\n",
       "        [0.17858946, 0.68458283],\n",
       "        [0.17858946, 0.68458283]],\n",
       "\n",
       "       [[3.19833673, 5.7606531 ],\n",
       "        [3.19833673, 5.7606531 ],\n",
       "        [3.19833673, 5.7606531 ],\n",
       "        ...,\n",
       "        [0.18717199, 0.69246895],\n",
       "        [0.17544607, 0.70510857],\n",
       "        [0.17544607, 0.70510857]],\n",
       "\n",
       "       ...,\n",
       "\n",
       "       [[5.66377177, 7.79251149],\n",
       "        [5.66377177, 7.79251149],\n",
       "        [5.66377177, 7.79251149],\n",
       "        ...,\n",
       "        [0.12905724, 0.72621989],\n",
       "        [0.12905724, 0.72621989],\n",
       "        [0.1377066 , 0.71894919]],\n",
       "\n",
       "       [[6.43455502, 7.28622863],\n",
       "        [6.43455502, 7.28622863],\n",
       "        [6.42091474, 7.28582899],\n",
       "        ...,\n",
       "        [0.15607887, 0.70096643],\n",
       "        [0.15793772, 0.69870153],\n",
       "        [0.16541407, 0.69359028]],\n",
       "\n",
       "       [[7.12394804, 7.40945476],\n",
       "        [7.99304753, 6.81546138],\n",
       "        [7.99304753, 6.81546138],\n",
       "        ...,\n",
       "        [0.20998028, 0.66788341],\n",
       "        [0.20998028, 0.66788341],\n",
       "        [0.20998028, 0.66788341]]])"
      ]
     },
     "execution_count": 50,
     "metadata": {},
     "output_type": "execute_result"
    }
   ],
   "source": [
    "mcmcchain = sampler.chain\n",
    "mcmcchain"
   ]
  },
  {
   "cell_type": "code",
   "execution_count": 51,
   "metadata": {},
   "outputs": [
    {
     "data": {
      "text/plain": [
       "(10, 5000, 2)"
      ]
     },
     "execution_count": 51,
     "metadata": {},
     "output_type": "execute_result"
    }
   ],
   "source": [
    "mcmcchain.shape"
   ]
  },
  {
   "cell_type": "code",
   "execution_count": 52,
   "metadata": {},
   "outputs": [
    {
     "data": {
      "text/plain": [
       "array([[6.35420944, 7.18177541],\n",
       "       [6.07437915, 7.099005  ],\n",
       "       [4.74913918, 7.2948509 ],\n",
       "       ...,\n",
       "       [0.20998028, 0.66788341],\n",
       "       [0.20998028, 0.66788341],\n",
       "       [0.20998028, 0.66788341]])"
      ]
     },
     "execution_count": 52,
     "metadata": {},
     "output_type": "execute_result"
    }
   ],
   "source": [
    "samples = sampler.chain.reshape((-1,ndim))\n",
    "samples"
   ]
  },
  {
   "cell_type": "code",
   "execution_count": 53,
   "metadata": {
    "scrolled": true
   },
   "outputs": [
    {
     "data": {
      "text/plain": [
       "(50000, 2)"
      ]
     },
     "execution_count": 53,
     "metadata": {},
     "output_type": "execute_result"
    }
   ],
   "source": [
    "samples.shape"
   ]
  },
  {
   "cell_type": "code",
   "execution_count": 57,
   "metadata": {},
   "outputs": [
    {
     "data": {
      "image/png": "[encoded data removed]",
      "text/plain": [
       "<matplotlib.figure.Figure at 0x1a18c1b780>"
      ]
     },
     "metadata": {
      "needs_background": "light"
     },
     "output_type": "display_data"
    }
   ],
   "source": [
    "import corner\n",
    "fig = corner.corner(samples, range=[0.95,0.95], labels=[\"M/L_D\", \"M/L_B\"])"
   ]
  },
  {
   "cell_type": "code",
   "execution_count": 76,
   "metadata": {},
   "outputs": [
    {
     "data": {
      "image/png": "[encoded data removed]",
      "text/plain": [
       "<matplotlib.figure.Figure at 0x1a1a59abe0>"
      ]
     },
     "metadata": {
      "needs_background": "light"
     },
     "output_type": "display_data"
    }
   ],
   "source": [
    "fig, axes = plt.subplots(2, figsize=(10, 7))\n",
    "labels = [\"M/L_D\", \"M/L_B\"]\n",
    "for i in range(ndim):\n",
    "    ax = axes[i]\n",
    "    ax.plot(sampler.chain[:, :, i].T, \"k\", alpha=0.3)\n",
    "    ax.set_xlim(0, 5000)\n",
    "#     ax.set_ylim(0.2, 0.4)\n",
    "    ax.set_ylabel(labels[i])\n",
    "#     ax.yaxis.set_label_coords(-0.1, 0.5)\n",
    "\n",
    "axes[-1].set_xlabel(\"step number\");"
   ]
  },
  {
   "cell_type": "code",
   "execution_count": 60,
   "metadata": {},
   "outputs": [],
   "source": [
    "post_prob = list(map(lnprob, samples))"
   ]
  },
  {
   "cell_type": "code",
   "execution_count": 61,
   "metadata": {
    "scrolled": true
   },
   "outputs": [
    {
     "data": {
      "text/plain": [
       "(-23.25964982089055,\n",
       " -22.029050995454398,\n",
       " -21.482541852133796,\n",
       " -21.301362332713158)"
      ]
     },
     "execution_count": 61,
     "metadata": {},
     "output_type": "execute_result"
    }
   ],
   "source": [
    "mid = 50 # middle value\n",
    "dev = 68.27 / 2 # deviation from the middle value\n",
    "postlow = np.percentile(post_prob, mid - dev, interpolation='lower')\n",
    "postmid = np.percentile(post_prob, mid, interpolation='lower')\n",
    "posthigh = np.percentile(post_prob, mid + dev, interpolation='lower')\n",
    "postmax = np.max(post_prob)\n",
    "postlow, postmid, posthigh, postmax"
   ]
  },
  {
   "cell_type": "code",
   "execution_count": 64,
   "metadata": {},
   "outputs": [
    {
     "data": {
      "text/plain": [
       "(1084, 8513, 24797, 17218)"
      ]
     },
     "execution_count": 64,
     "metadata": {},
     "output_type": "execute_result"
    }
   ],
   "source": [
    "posilow = np.argwhere(post_prob == postlow)[0,0]\n",
    "posimid = np.argwhere(post_prob == postmid)[0,0]\n",
    "posihigh = np.argwhere(post_prob == posthigh)[0,0]\n",
    "posimax = np.argwhere(post_prob == postmax)[0,0]\n",
    "posilow, posimid, posihigh, posimax"
   ]
  },
  {
   "cell_type": "code",
   "execution_count": 98,
   "metadata": {},
   "outputs": [
    {
     "data": {
      "text/plain": [
       "array([2, 4])"
      ]
     },
     "execution_count": 98,
     "metadata": {},
     "output_type": "execute_result"
    }
   ],
   "source": [
    "np.array([2]) * np.array([1,2])"
   ]
  },
  {
   "cell_type": "code",
   "execution_count": 67,
   "metadata": {},
   "outputs": [
    {
     "data": {
      "text/plain": [
       "(0.16522990407727703, 0.6947828285579307, 1.8390563755731482, 21)"
      ]
     },
     "execution_count": 67,
     "metadata": {},
     "output_type": "execute_result"
    }
   ],
   "source": [
    "M7Lmax_chain = samples[posimax]\n",
    "M7Lmax, M7LmaxB = samples[posimax]\n",
    "minchi2dof = calc_chi2dof(M7Lmax, M7LmaxB)\n",
    "M7Lmax, M7LmaxB, minchi2dof, dof"
   ]
  },
  {
   "cell_type": "code",
   "execution_count": null,
   "metadata": {},
   "outputs": [],
   "source": [
    "fig, axes = plt.subplots(2, figsize=(10, 7))\n",
    "labels = [\"M/L_D\", \"M/L_B\"]\n",
    "for i in range(ndim):\n",
    "    ax = axes[i]\n",
    "    ax.plot(sampler.chain[:, :, i].T, \"k\", alpha=0.3)\n",
    "    ax.set_xlim(0, 5000)\n",
    "    ax.set_ylim(M7Lmax_chain[i]/2, M7Lmax_chain[i]*2)\n",
    "    ax.set_ylabel(labels[i])\n",
    "#     ax.yaxis.set_label_coords(-0.1, 0.5)\n",
    "\n",
    "axes[-1].set_xlabel(\"step number\");"
   ]
  },
  {
   "cell_type": "code",
   "execution_count": 69,
   "metadata": {},
   "outputs": [
    {
     "name": "stdout",
     "output_type": "stream",
     "text": [
      "[201.05752093 225.79247138 233.82722931 239.05537322 241.08183338\n",
      " 244.268145   245.7202469  245.14517797 243.95922739 243.73872207\n",
      " 243.69023638 243.78401971 244.87382476 246.66256605 249.32634983\n",
      " 250.7170797  252.78716664 254.14552272 254.43201555 251.5747629\n",
      " 247.72555147 245.17311311 246.49297343]\n",
      "[205.30811509 230.05447003 237.65941958 242.38628394 243.83950983\n",
      " 246.53545881 247.45108641 246.3523047  244.70783562 243.94566794\n",
      " 243.4902543  243.27461131 244.00693243 245.38275184 247.54698363\n",
      " 248.67906255 250.3612848  251.40644813 251.19587379 248.46381568\n",
      " 244.831034   242.46970351 243.93853001]\n",
      "[194.68347281 214.18669746 216.55991043 216.26289741 212.86509016\n",
      " 211.28275169 208.05292585 202.94252763 197.25860688 192.85966217\n",
      " 189.12880961 185.76300151 183.68489191 182.53501872 181.91859274\n",
      " 180.89730402 178.85186484 177.27337061 169.55536337 159.39491841\n",
      " 149.4176813  141.42502012 137.9175481 ]\n",
      "[199.21231994 218.81836599 220.79023571 219.9776488  215.96105244\n",
      " 213.83625039 210.0047308  204.30303517 198.10036301 193.09152558\n",
      " 188.90569196 185.19738114 182.72686759 181.1270257  179.97097942\n",
      " 178.67606189 176.22882146 174.32991554 166.15204062 156.20907426\n",
      " 146.53656858 138.80756958 135.49276967]\n",
      "[ 22.97636876  36.6809648   47.90991975  57.63102349  65.81835309\n",
      "  72.73545847  78.85327309  83.29041689  85.89135221  89.49464133\n",
      "  91.46046453  92.27271675  94.00091298  96.64505319 100.10144564\n",
      " 101.34142643 102.86655959 104.35712883 104.01148959  97.25424236\n",
      "  90.24208619  84.29709119  80.1753432 ]\n",
      "[20.96494949 33.46980465 43.71574368 52.58583325 60.0564198  66.36798131\n",
      " 71.95022435 75.99892746 78.3721692  81.66001574 83.45374496 84.19489022\n",
      " 85.77179504 88.1844594  91.33826903 92.46969823 93.86131673 95.22139713\n",
      " 94.90601616 88.74031835 82.34202707 76.91747451 73.15655653]\n"
     ]
    },
    {
     "data": {
      "text/plain": [
       "(0.18666638624048068,\n",
       " 0.6665046385331662,\n",
       " 0.15541429930912054,\n",
       " 0.6998939140006968)"
      ]
     },
     "execution_count": 69,
     "metadata": {},
     "output_type": "execute_result"
    }
   ],
   "source": [
    "M7Llow, M7LlowB = samples[posilow]\n",
    "M7Lhigh, M7LhighB = samples[posihigh]\n",
    "\n",
    "vtot_low = v_total(R_gala, M7Llow, M7LlowB)\n",
    "vtot_high = v_total(R_gala, M7Lhigh, M7LhighB)\n",
    "\n",
    "vbar_low = v_baryon(M7Llow, M7LlowB)\n",
    "vbar_high = v_baryon(M7Lhigh, M7LhighB)\n",
    "\n",
    "vdisk_low = v_disk(M7Llow)\n",
    "vdisk_high = v_disk(M7Lhigh)\n",
    "\n",
    "print(vtot_low)\n",
    "print(vtot_high)\n",
    "print(vbar_low)\n",
    "print(vbar_high)\n",
    "print(vdisk_low)\n",
    "print(vdisk_high)\n",
    "\n",
    "M7Llow, M7LlowB, M7Lhigh, M7LhighB"
   ]
  },
  {
   "cell_type": "code",
   "execution_count": 70,
   "metadata": {
    "scrolled": false
   },
   "outputs": [
    {
     "data": {
      "image/png": "[encoded data removed]",
      "text/plain": [
       "<matplotlib.figure.Figure at 0x1a19410940>"
      ]
     },
     "metadata": {
      "needs_background": "light"
     },
     "output_type": "display_data"
    }
   ],
   "source": [
    "fig, ax = plt.subplots(figsize=(6,6))\n",
    "ax.errorbar(R_gala, V_obs, yerr=V_errV, fmt='ko', ecolor='k', capsize=3.5, markersize=4)\n",
    "# ax.plot(R_gala, vtot_test, 'ro',\n",
    "#         R_gala, V_disk, 'y*',\n",
    "#         R_gala, V_gas, 'g^',\n",
    "#         R_gala, V_bulge, 'c*')\n",
    "        #R_gala, V_nfw, 'mo')\n",
    "# ax.plot(R_gala, vtot_test, 'ro')\n",
    "\n",
    "ax.plot(R_gala, vbar_low, color=(0,0.3,0), alpha=0.8)\n",
    "ax.plot(R_gala, vbar_high, color=(0,0.3,0), alpha=0.8)\n",
    "ax.plot(R_gala, vdisk_low, color=(0.7,0.7,0.7), alpha=0.8)\n",
    "ax.plot(R_gala, vdisk_high, color=(0.7,0.7,0.7), alpha=0.8)\n",
    "ax.plot(R_gala, vtot_low, color=(1,0,0), alpha=0.8)\n",
    "ax.plot(R_gala, vtot_high, color=(1,0,0), alpha=0.8)\n",
    "\n",
    "ax.fill_between(R_gala, vbar_low, vbar_high, facecolor=(0,0.3,0), alpha=0.8, label='Baryons')\n",
    "ax.fill_between(R_gala, vdisk_low, vdisk_high, facecolor=(0.7,0.7,0.7), alpha=0.8, label='Disk')\n",
    "ax.fill_between(R_gala, vtot_low, vtot_high, facecolor=(1,0,0), alpha=0.8, label='Model')\n",
    "\n",
    "ax.set_xlim(0,Rmax*1.05)\n",
    "ax.set_ylim(0,Vobsmax*1.1)\n",
    "ax.set_xlabel('radius (kpc)',fontsize=15)\n",
    "ax.set_ylabel('rotation speed (km/s)',fontsize=15)\n",
    "ax.tick_params(width=1.5, labelsize=15)\n",
    "ax.set_title(name,fontsize=15)\n",
    "ax.legend(loc='lower right',fontsize=12)\n",
    "\n",
    "for axis in ['top','bottom','left','right']:\n",
    "    ax.spines[axis].set_linewidth(1.)\n",
    "    \n",
    "# fig.savefig('./Output_MOND/test/NGC1090.pdf', bbox_inches='tight')"
   ]
  },
  {
   "cell_type": "code",
   "execution_count": null,
   "metadata": {},
   "outputs": [],
   "source": [
    "# style\n",
    "# store the info\n",
    "# best fit info (m/l disk + bulge, chi2dof, dof) "
   ]
  }
 ],
 "metadata": {
  "kernelspec": {
   "display_name": "Python 3",
   "language": "python",
   "name": "python3"
  },
  "language_info": {
   "codemirror_mode": {
    "name": "ipython",
    "version": 3
   },
   "file_extension": ".py",
   "mimetype": "text/x-python",
   "name": "python",
   "nbconvert_exporter": "python",
   "pygments_lexer": "ipython3",
   "version": "3.6.7"
  }
 },
 "nbformat": 4,
 "nbformat_minor": 2
}
